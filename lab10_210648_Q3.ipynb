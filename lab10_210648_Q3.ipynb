{
  "nbformat": 4,
  "nbformat_minor": 0,
  "metadata": {
    "colab": {
      "provenance": []
    },
    "kernelspec": {
      "name": "python3",
      "display_name": "Python 3"
    },
    "language_info": {
      "name": "python"
    }
  },
  "cells": [
    {
      "cell_type": "code",
      "execution_count": null,
      "metadata": {
        "id": "PInlG2dVJjWU"
      },
      "outputs": [],
      "source": [
        "import numpy as np\n",
        "import pandas as pd\n",
        "from sklearn.datasets import load_iris\n",
        "from sklearn.preprocessing import StandardScaler\n",
        "from sklearn.cluster import KMeans\n",
        "from sklearn.model_selection import train_test_split\n",
        "from sklearn.ensemble import RandomForestClassifier\n",
        "from sklearn.metrics import accuracy_score\n",
        "\n",
        "# Load Iris dataset\n",
        "iris = load_iris()\n",
        "data = iris.data\n",
        "columns = iris.feature_names\n",
        "target = iris.target"
      ]
    },
    {
      "cell_type": "code",
      "source": [
        "# Standardize the data\n",
        "scaler = StandardScaler()\n",
        "data_scaled = scaler.fit_transform(data)"
      ],
      "metadata": {
        "id": "MoZXSdMsJpeC"
      },
      "execution_count": null,
      "outputs": []
    },
    {
      "cell_type": "code",
      "source": [
        "# Apply K-Means clustering\n",
        "kmeans = KMeans(n_clusters=3, random_state=42)\n",
        "cluster_labels = kmeans.fit_predict(data_scaled)"
      ],
      "metadata": {
        "colab": {
          "base_uri": "https://localhost:8080/"
        },
        "id": "7aU4AgcaJrq7",
        "outputId": "7d9919a2-3355-4033-96b2-ed1cd67225f7"
      },
      "execution_count": null,
      "outputs": [
        {
          "output_type": "stream",
          "name": "stderr",
          "text": [
            "/usr/local/lib/python3.10/dist-packages/sklearn/cluster/_kmeans.py:870: FutureWarning: The default value of `n_init` will change from 10 to 'auto' in 1.4. Set the value of `n_init` explicitly to suppress the warning\n",
            "  warnings.warn(\n"
          ]
        }
      ]
    },
    {
      "cell_type": "code",
      "source": [
        "# Add cluster labels as new features\n",
        "data_with_clusters = np.column_stack([data_scaled, cluster_labels])"
      ],
      "metadata": {
        "id": "I6tiQGU7Jtjx"
      },
      "execution_count": null,
      "outputs": []
    },
    {
      "cell_type": "code",
      "source": [
        "# Split the data into train and test sets\n",
        "X_train, X_test, y_train, y_test = train_test_split(data_scaled, target, test_size=0.2, random_state=42)\n",
        "X_train_with_clusters, X_test_with_clusters, _, _ = train_test_split(data_with_clusters, target, test_size=0.2, random_state=43)"
      ],
      "metadata": {
        "id": "g7gKcMM_JuH5"
      },
      "execution_count": null,
      "outputs": []
    },
    {
      "cell_type": "code",
      "source": [
        "# Train a Random Forest classifier without cluster labels\n",
        "model_without_clusters = RandomForestClassifier(random_state=42)\n",
        "model_without_clusters.fit(X_train, y_train)\n",
        "y_pred_without_clusters = model_without_clusters.predict(X_test)\n",
        "accuracy_without_clusters = accuracy_score(y_test, y_pred_without_clusters)"
      ],
      "metadata": {
        "id": "a-ho-nzlJzLD"
      },
      "execution_count": null,
      "outputs": []
    },
    {
      "cell_type": "code",
      "source": [
        "# Train a Random Forest classifier with cluster labels\n",
        "model_with_clusters = RandomForestClassifier(random_state=42)\n",
        "model_with_clusters.fit(X_train_with_clusters, y_train)\n",
        "y_pred_with_clusters = model_with_clusters.predict(X_test_with_clusters)\n",
        "accuracy_with_clusters = accuracy_score(y_test, y_pred_with_clusters)"
      ],
      "metadata": {
        "id": "F1pdnffAJ1HB"
      },
      "execution_count": null,
      "outputs": []
    },
    {
      "cell_type": "code",
      "source": [
        "# Compare the performance\n",
        "print(f'Accuracy without cluster labels: {accuracy_without_clusters:.2f}')\n",
        "print(f'Accuracy with cluster labels: {accuracy_with_clusters:.2f}')"
      ],
      "metadata": {
        "colab": {
          "base_uri": "https://localhost:8080/"
        },
        "id": "q7qIKY41J3cZ",
        "outputId": "3bf1b717-dcae-42b8-a857-952f0503a94b"
      },
      "execution_count": null,
      "outputs": [
        {
          "output_type": "stream",
          "name": "stdout",
          "text": [
            "Accuracy without cluster labels: 1.00\n",
            "Accuracy with cluster labels: 0.33\n"
          ]
        }
      ]
    }
  ]
}