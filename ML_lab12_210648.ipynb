{
  "nbformat": 4,
  "nbformat_minor": 0,
  "metadata": {
    "colab": {
      "provenance": []
    },
    "kernelspec": {
      "name": "python3",
      "display_name": "Python 3"
    },
    "language_info": {
      "name": "python"
    }
  },
  "cells": [
    {
      "cell_type": "markdown",
      "source": [
        "**Task 1**"
      ],
      "metadata": {
        "id": "bsebPs1ATDvQ"
      }
    },
    {
      "cell_type": "code",
      "execution_count": null,
      "metadata": {
        "id": "ph8jF4aEMVAF"
      },
      "outputs": [],
      "source": [
        "# importing tensorflow\n",
        "import tensorflow as tf\n",
        "import pandas as pd\n",
        "from sklearn.model_selection import train_test_split\n",
        "from sklearn.preprocessing import StandardScaler\n",
        "from sklearn.metrics import confusion_matrix,ConfusionMatrixDisplay\n",
        "import seaborn as sns\n",
        "import matplotlib.pyplot as plt"
      ]
    },
    {
      "cell_type": "code",
      "source": [
        "# URL of the UCI Heart Disease Prediction Dataset\n",
        "\n",
        "url = \"https://archive.ics.uci.edu/ml/machine-learning-databases/heart-disease/processed.cleveland.data\"\n",
        "\n",
        "# Listing the feature names in the dataset\n",
        "feature_names = [\"age\", \"sex\", \"cp\", \"trestbps\", \"chol\", \"fbs\", \"restecg\",\n",
        "\"thalach\", \"exang\", \"oldpeak\", \"slope\", \"ca\", \"thal\", \"target\"]\n",
        "# Reading the features data from the .csv file through the specified URL\n",
        "data = pd.read_csv(url, names=feature_names, na_values=\"?\")\n",
        "# Handling missing values: simply dropping rows with missing values\n",
        "data = data.dropna()\n",
        "# Convert the target variable to a binary variable (1 for heart disease, 0 for no heart disease)\n",
        "data[\"target_binary\"] = data[\"target\"].map(lambda x: 1 if x > 0 else 0)\n",
        "# Listing the names of categorical features in the dataset\n",
        "categorical_features = [\"sex\", \"cp\", \"fbs\", \"restecg\", \"exang\", \"slope\", \"ca\",\n",
        "\"thal\"]\n",
        "# Applying one-hot encoding to categorical features\n",
        "encoded_data = pd.get_dummies(data, columns=categorical_features)\n",
        "# Separate features and target variable\n",
        "X = encoded_data.drop([\"target\", \"target_binary\"], axis=1)\n",
        "# Assigning \"target_binary\" feature as output variable\n",
        "y_binary = data[\"target_binary\"]\n",
        "# Split the dataset into training and testing sets\n",
        "X_train, X_test, y_train, y_test = train_test_split(X, y_binary, test_size=0.3,\n",
        "random_state=1)\n",
        "# Standardize numerical features\n",
        "scaler = StandardScaler()\n",
        "X_train_scaled = scaler.fit_transform(X_train)\n",
        "X_test_scaled = scaler.transform(X_test)"
      ],
      "metadata": {
        "id": "u-ngsDMxOHYo"
      },
      "execution_count": null,
      "outputs": []
    },
    {
      "cell_type": "code",
      "source": [
        "model = tf.keras.Sequential([\n",
        "tf.keras.layers.Dense(64, activation='relu',\n",
        "input_shape=(X_train_scaled.shape[1],)),\n",
        "tf.keras.layers.Dense(1, activation='sigmoid')\n",
        "])"
      ],
      "metadata": {
        "id": "psw8Z2vgOgsZ"
      },
      "execution_count": null,
      "outputs": []
    },
    {
      "cell_type": "code",
      "source": [
        "model.compile(optimizer='adam', loss='binary_crossentropy', metrics=['accuracy'])"
      ],
      "metadata": {
        "id": "GtI_SbwyOjbx"
      },
      "execution_count": null,
      "outputs": []
    },
    {
      "cell_type": "code",
      "source": [
        "# Train the model\n",
        "batch_size = 32\n",
        "epochs = 10\n",
        "model.fit(X_train_scaled, y_train, batch_size=batch_size, epochs=epochs)"
      ],
      "metadata": {
        "colab": {
          "base_uri": "https://localhost:8080/"
        },
        "id": "4J19v8JVOnWZ",
        "outputId": "65a15c04-5c23-4c99-de66-6ab708f4feb7"
      },
      "execution_count": null,
      "outputs": [
        {
          "output_type": "stream",
          "name": "stdout",
          "text": [
            "Epoch 1/10\n",
            "7/7 [==============================] - 2s 6ms/step - loss: 0.7157 - accuracy: 0.4783\n",
            "Epoch 2/10\n",
            "7/7 [==============================] - 0s 5ms/step - loss: 0.5898 - accuracy: 0.6570\n",
            "Epoch 3/10\n",
            "7/7 [==============================] - 0s 6ms/step - loss: 0.5044 - accuracy: 0.7633\n",
            "Epoch 4/10\n",
            "7/7 [==============================] - 0s 6ms/step - loss: 0.4455 - accuracy: 0.8261\n",
            "Epoch 5/10\n",
            "7/7 [==============================] - 0s 4ms/step - loss: 0.4035 - accuracy: 0.8309\n",
            "Epoch 6/10\n",
            "7/7 [==============================] - 0s 4ms/step - loss: 0.3765 - accuracy: 0.8551\n",
            "Epoch 7/10\n",
            "7/7 [==============================] - 0s 4ms/step - loss: 0.3559 - accuracy: 0.8647\n",
            "Epoch 8/10\n",
            "7/7 [==============================] - 0s 4ms/step - loss: 0.3385 - accuracy: 0.8647\n",
            "Epoch 9/10\n",
            "7/7 [==============================] - 0s 4ms/step - loss: 0.3268 - accuracy: 0.8647\n",
            "Epoch 10/10\n",
            "7/7 [==============================] - 0s 4ms/step - loss: 0.3156 - accuracy: 0.8744\n"
          ]
        },
        {
          "output_type": "execute_result",
          "data": {
            "text/plain": [
              "<keras.src.callbacks.History at 0x7e52de2d1720>"
            ]
          },
          "metadata": {},
          "execution_count": 8
        }
      ]
    },
    {
      "cell_type": "code",
      "source": [
        "# Evaluate the model on the test set\n",
        "loss_and_metrics = model.evaluate(X_test_scaled, y_test)\n",
        "print('Loss = ',loss_and_metrics[0])\n",
        "print('Accuracy = ',loss_and_metrics[1])"
      ],
      "metadata": {
        "colab": {
          "base_uri": "https://localhost:8080/"
        },
        "id": "nUc_ZRqwOpVo",
        "outputId": "6c43e058-21c6-475a-d26b-c1216e6cfe98"
      },
      "execution_count": null,
      "outputs": [
        {
          "output_type": "stream",
          "name": "stdout",
          "text": [
            "3/3 [==============================] - 1s 9ms/step - loss: 0.4068 - accuracy: 0.8222\n",
            "Loss =  0.4067959189414978\n",
            "Accuracy =  0.8222222328186035\n"
          ]
        }
      ]
    },
    {
      "cell_type": "code",
      "source": [
        "# Generate and plot the confusion matrix\n",
        "y_pred = model.predict(X_test_scaled)\n",
        "y_pred_binary = (y_pred > 0.5).astype(int) # Convert probabilities to binary predictions\n",
        "conf_matrix = confusion_matrix(y_test, y_pred_binary)"
      ],
      "metadata": {
        "colab": {
          "base_uri": "https://localhost:8080/"
        },
        "id": "7NGu-TOyOsPY",
        "outputId": "38fb9834-8697-4b64-b96c-2708d58394d9"
      },
      "execution_count": null,
      "outputs": [
        {
          "output_type": "stream",
          "name": "stdout",
          "text": [
            "3/3 [==============================] - 0s 8ms/step\n"
          ]
        }
      ]
    },
    {
      "cell_type": "code",
      "source": [
        "# Plot the confusion matrix using seaborn\n",
        "plt.figure(figsize=(6, 4))\n",
        "sns.heatmap(conf_matrix, annot=True, fmt=\"d\", cmap=\"Blues\",xticklabels=[\"Predicted:No Heart Disease\", \"Predicted: Heart Disease\"],yticklabels=[\"Actual: No Heart Disease\", \"Actual: Heart Disease\"])\n",
        "plt.title(\"Confusion Matrix\")\n",
        "plt.xlabel(\"Predicted Label\")\n",
        "plt.ylabel(\"True Label\")\n",
        "plt.show()"
      ],
      "metadata": {
        "colab": {
          "base_uri": "https://localhost:8080/",
          "height": 410
        },
        "id": "Dg41V6t-Ou_f",
        "outputId": "4e25530f-e12f-43ca-bb57-2396de54c52a"
      },
      "execution_count": null,
      "outputs": [
        {
          "output_type": "display_data",
          "data": {
            "text/plain": [
              "<Figure size 600x400 with 2 Axes>"
            ],
            "image/png": "[encoded data removed]"
          },
          "metadata": {}
        }
      ]
    },
    {
      "cell_type": "markdown",
      "source": [
        "**Task 2**"
      ],
      "metadata": {
        "id": "ERSmw-z-TIv3"
      }
    },
    {
      "cell_type": "code",
      "source": [
        "# importing tensorflow\n",
        "import tensorflow as tf\n",
        "import pandas as pd\n",
        "from sklearn.model_selection import train_test_split\n",
        "from sklearn.preprocessing import StandardScaler\n",
        "from sklearn.metrics import confusion_matrix, ConfusionMatrixDisplay\n",
        "import seaborn as sns\n",
        "import matplotlib.pyplot as plt"
      ],
      "metadata": {
        "id": "utN8B8CHTMTm"
      },
      "execution_count": null,
      "outputs": []
    },
    {
      "cell_type": "code",
      "source": [
        "# URL of the UCI Heart Disease Prediction Dataset\n",
        "url = \"https://archive.ics.uci.edu/ml/machine-learning-databases/heart-disease/processed.cleveland.data\"\n"
      ],
      "metadata": {
        "id": "DWD25YznTal4"
      },
      "execution_count": null,
      "outputs": []
    },
    {
      "cell_type": "code",
      "source": [
        "# Listing the feature names in the dataset\n",
        "feature_names = [\"age\", \"sex\", \"cp\", \"trestbps\", \"chol\", \"fbs\", \"restecg\",\n",
        "                 \"thalach\", \"exang\", \"oldpeak\", \"slope\", \"ca\", \"thal\", \"target\"]"
      ],
      "metadata": {
        "id": "bH-zckQeTlhn"
      },
      "execution_count": null,
      "outputs": []
    },
    {
      "cell_type": "code",
      "source": [
        "# Reading the features data from the .csv file through the specified URL\n",
        "data = pd.read_csv(url, names=feature_names, na_values=\"?\")"
      ],
      "metadata": {
        "id": "C9uA1kEFTrhP"
      },
      "execution_count": null,
      "outputs": []
    },
    {
      "cell_type": "code",
      "source": [
        "# Handling missing values: simply dropping rows with missing values\n",
        "data = data.dropna()"
      ],
      "metadata": {
        "id": "x4vknHiYTuIx"
      },
      "execution_count": null,
      "outputs": []
    },
    {
      "cell_type": "code",
      "source": [
        "# Convert the target variable to multi-class categories (0, 1, 2, 3, 4)\n",
        "data[\"target\"] = data[\"target\"].astype(int)"
      ],
      "metadata": {
        "id": "aCK8A1vGTus4"
      },
      "execution_count": null,
      "outputs": []
    },
    {
      "cell_type": "code",
      "source": [
        "# Listing the names of categorical features in the dataset\n",
        "categorical_features = [\"sex\", \"cp\", \"fbs\", \"restecg\", \"exang\", \"slope\", \"ca\", \"thal\"]\n",
        "\n",
        "# Applying one-hot encoding to categorical features\n",
        "encoded_data = pd.get_dummies(data, columns=categorical_features)\n",
        "\n",
        "# Separate features and target variable\n",
        "X = encoded_data.drop([\"target\"], axis=1)\n",
        "y = data[\"target\"]\n",
        "\n",
        "# Split the dataset into training and testing sets\n",
        "X_train, X_test, y_train, y_test = train_test_split(X, y, test_size=0.3, random_state=1)"
      ],
      "metadata": {
        "id": "P1Sdu_Y-Ty2n"
      },
      "execution_count": null,
      "outputs": []
    },
    {
      "cell_type": "code",
      "source": [
        "# Standardize numerical features\n",
        "scaler = StandardScaler()\n",
        "X_train_scaled = scaler.fit_transform(X_train)\n",
        "X_test_scaled = scaler.transform(X_test)\n",
        "\n",
        "# Convert the target variable to one-hot encoding\n",
        "y_train_one_hot = tf.keras.utils.to_categorical(y_train, num_classes=5)\n",
        "y_test_one_hot = tf.keras.utils.to_categorical(y_test, num_classes=5)"
      ],
      "metadata": {
        "id": "tDo_JKTkUB3M"
      },
      "execution_count": null,
      "outputs": []
    },
    {
      "cell_type": "code",
      "source": [
        "# Neural network model for multi-class classification\n",
        "model = tf.keras.Sequential([\n",
        "    tf.keras.layers.Dense(64, activation='relu', input_shape=(X_train_scaled.shape[1],)),\n",
        "    tf.keras.layers.Dense(5, activation='softmax')  # Use 'softmax' activation for multi-class\n",
        "])\n",
        "\n",
        "model.compile(optimizer='adam', loss='categorical_crossentropy', metrics=['accuracy'])"
      ],
      "metadata": {
        "id": "JwBHSakCUCkI"
      },
      "execution_count": null,
      "outputs": []
    },
    {
      "cell_type": "code",
      "source": [
        "# Train the model\n",
        "batch_size = 32\n",
        "epochs = 10\n",
        "model.fit(X_train_scaled, y_train_one_hot, batch_size=batch_size, epochs=epochs)\n",
        "\n",
        "# Evaluate the model on the test set\n",
        "loss_and_metrics = model.evaluate(X_test_scaled, y_test_one_hot)\n",
        "print('Loss = ', loss_and_metrics[0])\n",
        "print('Accuracy = ', loss_and_metrics[1])"
      ],
      "metadata": {
        "colab": {
          "base_uri": "https://localhost:8080/"
        },
        "id": "HeSvig1fUGfY",
        "outputId": "76778a92-d980-464a-bd1d-4c63ade6360f"
      },
      "execution_count": null,
      "outputs": [
        {
          "output_type": "stream",
          "name": "stdout",
          "text": [
            "Epoch 1/10\n",
            "7/7 [==============================] - 1s 3ms/step - loss: 2.0100 - accuracy: 0.0870\n",
            "Epoch 2/10\n",
            "7/7 [==============================] - 0s 5ms/step - loss: 1.7674 - accuracy: 0.2077\n",
            "Epoch 3/10\n",
            "7/7 [==============================] - 0s 5ms/step - loss: 1.5681 - accuracy: 0.3623\n",
            "Epoch 4/10\n",
            "7/7 [==============================] - 0s 4ms/step - loss: 1.4077 - accuracy: 0.5024\n",
            "Epoch 5/10\n",
            "7/7 [==============================] - 0s 3ms/step - loss: 1.2821 - accuracy: 0.5604\n",
            "Epoch 6/10\n",
            "7/7 [==============================] - 0s 4ms/step - loss: 1.1798 - accuracy: 0.5942\n",
            "Epoch 7/10\n",
            "7/7 [==============================] - 0s 3ms/step - loss: 1.1001 - accuracy: 0.6087\n",
            "Epoch 8/10\n",
            "7/7 [==============================] - 0s 4ms/step - loss: 1.0395 - accuracy: 0.6135\n",
            "Epoch 9/10\n",
            "7/7 [==============================] - 0s 3ms/step - loss: 0.9896 - accuracy: 0.6473\n",
            "Epoch 10/10\n",
            "7/7 [==============================] - 0s 3ms/step - loss: 0.9500 - accuracy: 0.6570\n",
            "3/3 [==============================] - 0s 6ms/step - loss: 1.0611 - accuracy: 0.5889\n",
            "Loss =  1.061091661453247\n",
            "Accuracy =  0.5888888835906982\n"
          ]
        }
      ]
    },
    {
      "cell_type": "code",
      "source": [
        "# Generate and plot the confusion matrix\n",
        "y_pred = model.predict(X_test_scaled)\n",
        "y_pred_labels = tf.argmax(y_pred, axis=1)\n",
        "conf_matrix = confusion_matrix(y_test, y_pred_labels)"
      ],
      "metadata": {
        "colab": {
          "base_uri": "https://localhost:8080/"
        },
        "id": "6PD9SToJUKaa",
        "outputId": "5b1953b9-f446-44ed-e57a-3f186054e6af"
      },
      "execution_count": null,
      "outputs": [
        {
          "output_type": "stream",
          "name": "stdout",
          "text": [
            "3/3 [==============================] - 0s 6ms/step\n"
          ]
        }
      ]
    },
    {
      "cell_type": "code",
      "source": [
        "# Plot the confusion matrix using seaborn\n",
        "plt.figure(figsize=(8, 6))\n",
        "sns.heatmap(conf_matrix, annot=True, fmt=\"d\", cmap=\"Blues\", xticklabels=[\"0\", \"1\", \"2\", \"3\", \"4\"],\n",
        "            yticklabels=[\"0\", \"1\", \"2\", \"3\", \"4\"])\n",
        "plt.title(\"Confusion Matrix\")\n",
        "plt.xlabel(\"Predicted Label\")\n",
        "plt.ylabel(\"True Label\")\n",
        "plt.show()"
      ],
      "metadata": {
        "colab": {
          "base_uri": "https://localhost:8080/",
          "height": 564
        },
        "id": "E77h5y42UMyZ",
        "outputId": "c7cbea8d-76e1-4a81-9804-59ea9aff21b4"
      },
      "execution_count": null,
      "outputs": [
        {
          "output_type": "display_data",
          "data": {
            "text/plain": [
              "<Figure size 800x600 with 2 Axes>"
            ],
            "image/png": "[encoded data removed]"
          },
          "metadata": {}
        }
      ]
    },
    {
      "cell_type": "markdown",
      "source": [
        "**Task 3**"
      ],
      "metadata": {
        "id": "KmLE3VLiYJme"
      }
    },
    {
      "cell_type": "code",
      "source": [
        "import tensorflow as tf\n",
        "from tensorflow.keras import layers, models\n",
        "from tensorflow.keras.datasets import mnist\n",
        "from sklearn.metrics import classification_report, confusion_matrix\n",
        "import matplotlib.pyplot as plt\n",
        "\n",
        "# Load and preprocess the data\n",
        "(X_train, y_train), (X_test, y_test) = mnist.load_data()\n",
        "\n",
        "# Normalize pixel values to be between 0 and 1\n",
        "X_train, X_test = X_train / 255.0, X_test / 255.0"
      ],
      "metadata": {
        "id": "X-QdJBukYBmq"
      },
      "execution_count": null,
      "outputs": []
    },
    {
      "cell_type": "code",
      "source": [
        "# Define the neural network model\n",
        "model = models.Sequential([\n",
        "    layers.Flatten(input_shape=(28, 28)),  # Flatten the 28x28 images to a 1D array\n",
        "    layers.Dense(128, activation='relu'),\n",
        "    layers.Dropout(0.2),\n",
        "    layers.Dense(10, activation='softmax')  # 10 output classes for digits 0 to 9\n",
        "])"
      ],
      "metadata": {
        "id": "BcpwE-xQYFuW"
      },
      "execution_count": null,
      "outputs": []
    },
    {
      "cell_type": "code",
      "source": [
        "# Compile the model\n",
        "model.compile(optimizer='adam',\n",
        "              loss='sparse_categorical_crossentropy',\n",
        "              metrics=['accuracy'])"
      ],
      "metadata": {
        "id": "d0_SUgBJYIYw"
      },
      "execution_count": null,
      "outputs": []
    },
    {
      "cell_type": "code",
      "source": [
        "# Train the model\n",
        "history = model.fit(X_train, y_train, epochs=5, validation_data=(X_test, y_test))\n",
        "\n",
        "# Evaluate the model\n",
        "test_loss, test_acc = model.evaluate(X_test, y_test, verbose=2)\n",
        "print(f\"\\nTest accuracy: {test_acc}\")"
      ],
      "metadata": {
        "colab": {
          "base_uri": "https://localhost:8080/"
        },
        "id": "kPlWpevJYOZx",
        "outputId": "f64009a0-fa32-4a0b-b42c-b7f1e92b0215"
      },
      "execution_count": null,
      "outputs": [
        {
          "output_type": "stream",
          "name": "stdout",
          "text": [
            "Epoch 1/5\n",
            "1875/1875 [==============================] - 10s 5ms/step - loss: 0.2973 - accuracy: 0.9137 - val_loss: 0.1458 - val_accuracy: 0.9560\n",
            "Epoch 2/5\n",
            "1875/1875 [==============================] - 10s 5ms/step - loss: 0.1461 - accuracy: 0.9572 - val_loss: 0.1080 - val_accuracy: 0.9685\n",
            "Epoch 3/5\n",
            "1875/1875 [==============================] - 9s 5ms/step - loss: 0.1081 - accuracy: 0.9674 - val_loss: 0.0900 - val_accuracy: 0.9725\n",
            "Epoch 4/5\n",
            "1875/1875 [==============================] - 10s 5ms/step - loss: 0.0888 - accuracy: 0.9726 - val_loss: 0.0763 - val_accuracy: 0.9762\n",
            "Epoch 5/5\n",
            "1875/1875 [==============================] - 10s 5ms/step - loss: 0.0759 - accuracy: 0.9759 - val_loss: 0.0731 - val_accuracy: 0.9783\n",
            "313/313 - 1s - loss: 0.0731 - accuracy: 0.9783 - 1s/epoch - 4ms/step\n",
            "\n",
            "Test accuracy: 0.9782999753952026\n"
          ]
        }
      ]
    },
    {
      "cell_type": "code",
      "source": [
        "# Make predictions\n",
        "y_pred = model.predict(X_test)\n",
        "y_pred_labels = tf.argmax(y_pred, axis=1)\n",
        "\n",
        "# Print classification report and confusion matrix\n",
        "print(\"\\nClassification Report:\\n\", classification_report(y_test, y_pred_labels))\n",
        "print(\"\\nConfusion Matrix:\\n\", confusion_matrix(y_test, y_pred_labels))"
      ],
      "metadata": {
        "colab": {
          "base_uri": "https://localhost:8080/"
        },
        "id": "-TberaQhYRNh",
        "outputId": "5b2a1c65-1dad-44c2-f81c-a2b041fc3691"
      },
      "execution_count": null,
      "outputs": [
        {
          "output_type": "stream",
          "name": "stdout",
          "text": [
            "313/313 [==============================] - 3s 8ms/step\n",
            "\n",
            "Classification Report:\n",
            "               precision    recall  f1-score   support\n",
            "\n",
            "           0       0.98      0.99      0.98       980\n",
            "           1       0.98      0.99      0.99      1135\n",
            "           2       0.97      0.97      0.97      1032\n",
            "           3       0.98      0.98      0.98      1010\n",
            "           4       0.99      0.97      0.98       982\n",
            "           5       0.98      0.98      0.98       892\n",
            "           6       0.97      0.99      0.98       958\n",
            "           7       0.99      0.96      0.97      1028\n",
            "           8       0.97      0.97      0.97       974\n",
            "           9       0.97      0.98      0.97      1009\n",
            "\n",
            "    accuracy                           0.98     10000\n",
            "   macro avg       0.98      0.98      0.98     10000\n",
            "weighted avg       0.98      0.98      0.98     10000\n",
            "\n",
            "\n",
            "Confusion Matrix:\n",
            " [[ 971    1    0    2    0    1    2    1    1    1]\n",
            " [   0 1128    3    0    0    1    2    0    1    0]\n",
            " [   5    2 1003    3    1    0    4    4    9    1]\n",
            " [   0    0    5  991    0    6    0    3    4    1]\n",
            " [   0    0    5    0  953    0    6    0    2   16]\n",
            " [   2    0    0    5    2  873    5    0    4    1]\n",
            " [   4    3    1    1    1    3  944    0    1    0]\n",
            " [   3    8   11    2    1    0    0  991    4    8]\n",
            " [   5    2    5    3    3    2    5    3  943    3]\n",
            " [   2    3    0    6    3    2    1    4    2  986]]\n"
          ]
        }
      ]
    },
    {
      "cell_type": "code",
      "source": [
        "# Plot training history\n",
        "plt.plot(history.history['accuracy'], label='accuracy')\n",
        "plt.plot(history.history['val_accuracy'], label='val_accuracy')\n",
        "plt.xlabel('Epoch')\n",
        "plt.ylabel('Accuracy')\n",
        "plt.legend()\n",
        "plt.show()"
      ],
      "metadata": {
        "colab": {
          "base_uri": "https://localhost:8080/",
          "height": 449
        },
        "id": "85jxjwMuYS8o",
        "outputId": "a004b982-0e76-4f3c-a568-c9dcb0af9bbc"
      },
      "execution_count": null,
      "outputs": [
        {
          "output_type": "display_data",
          "data": {
            "text/plain": [
              "<Figure size 640x480 with 1 Axes>"
            ],
            "image/png": "[encoded data removed]"
          },
          "metadata": {}
        }
      ]
    }
  ]
}