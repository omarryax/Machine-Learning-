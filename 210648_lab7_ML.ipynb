{
  "nbformat": 4,
  "nbformat_minor": 0,
  "metadata": {
    "colab": {
      "provenance": []
    },
    "kernelspec": {
      "name": "python3",
      "display_name": "Python 3"
    },
    "language_info": {
      "name": "python"
    }
  },
  "cells": [
    {
      "cell_type": "markdown",
      "source": [],
      "metadata": {
        "id": "GEkCNiKvZkSC"
      }
    },
    {
      "cell_type": "code",
      "execution_count": null,
      "metadata": {
        "id": "3kn66SEG0s2e"
      },
      "outputs": [],
      "source": [
        "import numpy as np\n",
        "from sklearn import datasets\n",
        "from sklearn.model_selection import train_test_split\n",
        "from sklearn.tree import DecisionTreeClassifier\n",
        "from sklearn.svm import SVC\n",
        "from sklearn.neighbors import KNeighborsClassifier\n",
        "from sklearn.ensemble import RandomForestClassifier\n",
        "from sklearn.metrics import accuracy_score, classification_report\n",
        "from sklearn.naive_bayes import GaussianNB\n"
      ]
    },
    {
      "cell_type": "code",
      "source": [
        "iris= datasets.load_iris()\n",
        "X = iris.data\n",
        "y = iris.target\n",
        "\n",
        "print(iris.feature_names)\n",
        "print(X[:5])\n",
        "print(iris.target_names)\n",
        "print(y[:5])"
      ],
      "metadata": {
        "colab": {
          "base_uri": "https://localhost:8080/"
        },
        "id": "GT8fRrNo2QJ-",
        "outputId": "2f12b212-8d79-4e45-fe32-9e494d5e64aa"
      },
      "execution_count": null,
      "outputs": [
        {
          "output_type": "stream",
          "name": "stdout",
          "text": [
            "['sepal length (cm)', 'sepal width (cm)', 'petal length (cm)', 'petal width (cm)']\n",
            "[[5.1 3.5 1.4 0.2]\n",
            " [4.9 3.  1.4 0.2]\n",
            " [4.7 3.2 1.3 0.2]\n",
            " [4.6 3.1 1.5 0.2]\n",
            " [5.  3.6 1.4 0.2]]\n",
            "['setosa' 'versicolor' 'virginica']\n",
            "[0 0 0 0 0]\n"
          ]
        }
      ]
    },
    {
      "cell_type": "code",
      "source": [
        "X_train, X_test, y_train, y_test = train_test_split(X, y, test_size=0.2, random_state=42)"
      ],
      "metadata": {
        "id": "SWCJJcx93k3V"
      },
      "execution_count": null,
      "outputs": []
    },
    {
      "cell_type": "code",
      "source": [
        "dt_classifier = DecisionTreeClassifier()\n",
        "dt_classifier.fit(X_train, y_train)\n",
        "dt_predictions = dt_classifier.predict(X_test)\n",
        "\n",
        "svm_classifier = SVC()\n",
        "svm_classifier.fit(X_train, y_train)\n",
        "\n",
        "svm_predictions = svm_classifier.predict(X_test)"
      ],
      "metadata": {
        "id": "iETVDlZM4oEV"
      },
      "execution_count": null,
      "outputs": []
    },
    {
      "cell_type": "code",
      "source": [
        "dt_accuracy= accuracy_score (y_test, dt_predictions)\n",
        "dt_report= classification_report (y_test, dt_predictions)\n",
        "\n",
        "print(\"Decision Tree Classifier:\")\n",
        "print(f\"Accuracy: {dt_accuracy}\")\n",
        "print(\"Classification Report:\")\n",
        "print(dt_report)\n",
        "\n",
        "svm_accuracy = accuracy_score(y_test, svm_predictions)\n",
        "svm_report = classification_report(y_test, svm_predictions)\n",
        "\n",
        "print(\"\\nSupport Vector Machine (SVM) Classifier:\")\n",
        "print(f\"Accuracy: {svm_accuracy}\")\n",
        "print(\"Classification Report:\")\n",
        "print(svm_report)"
      ],
      "metadata": {
        "colab": {
          "base_uri": "https://localhost:8080/"
        },
        "id": "m1kD0R-n6BfY",
        "outputId": "d0419107-1049-498b-f585-a18ac45d7844"
      },
      "execution_count": null,
      "outputs": [
        {
          "output_type": "stream",
          "name": "stdout",
          "text": [
            "Decision Tree Classifier:\n",
            "Accuracy: 1.0\n",
            "Classification Report:\n",
            "              precision    recall  f1-score   support\n",
            "\n",
            "           0       1.00      1.00      1.00        10\n",
            "           1       1.00      1.00      1.00         9\n",
            "           2       1.00      1.00      1.00        11\n",
            "\n",
            "    accuracy                           1.00        30\n",
            "   macro avg       1.00      1.00      1.00        30\n",
            "weighted avg       1.00      1.00      1.00        30\n",
            "\n",
            "\n",
            "Support Vector Machine (SVM) Classifier:\n",
            "Accuracy: 1.0\n",
            "Classification Report:\n",
            "              precision    recall  f1-score   support\n",
            "\n",
            "           0       1.00      1.00      1.00        10\n",
            "           1       1.00      1.00      1.00         9\n",
            "           2       1.00      1.00      1.00        11\n",
            "\n",
            "    accuracy                           1.00        30\n",
            "   macro avg       1.00      1.00      1.00        30\n",
            "weighted avg       1.00      1.00      1.00        30\n",
            "\n"
          ]
        }
      ]
    },
    {
      "cell_type": "markdown",
      "source": [
        "Task 1"
      ],
      "metadata": {
        "id": "k4Kae3W7ZuRW"
      }
    },
    {
      "cell_type": "code",
      "source": [
        "\n",
        "knn = KNeighborsClassifier(n_neighbors=3)\n",
        "\n",
        "\n",
        "knn.fit(X_train, y_train)\n",
        "\n",
        "\n",
        "knn_predictions = knn.predict(X_test)\n",
        "\n",
        "# Calculate accuracy\n",
        "knn_accuracy = accuracy_score(y_test, knn_predictions)\n",
        "print(\"K-NN Accuracy: {:.2f}%\".format(knn_accuracy * 100))\n"
      ],
      "metadata": {
        "colab": {
          "base_uri": "https://localhost:8080/"
        },
        "id": "S3-ZGgmc7fF0",
        "outputId": "26b8d495-4c83-434e-a17c-0044c07cdb18"
      },
      "execution_count": null,
      "outputs": [
        {
          "output_type": "stream",
          "name": "stdout",
          "text": [
            "K-NN Accuracy: 100.00%\n"
          ]
        }
      ]
    },
    {
      "cell_type": "code",
      "source": [
        "\n",
        "random_forest = RandomForestClassifier(n_estimators=100, random_state=42)\n",
        "\n",
        "\n",
        "random_forest.fit(X_train, y_train)\n",
        "\n",
        "\n",
        "rf_predictions = random_forest.predict(X_test)\n",
        "\n",
        "# Calculate accuracy\n",
        "rf_accuracy = accuracy_score(y_test, rf_predictions)\n",
        "print(\"Random Forest Accuracy: {:.2f}%\".format(rf_accuracy * 100))\n"
      ],
      "metadata": {
        "colab": {
          "base_uri": "https://localhost:8080/"
        },
        "id": "hUFliMMN-8vh",
        "outputId": "58f85a32-bc85-48d8-f69e-01cef7161645"
      },
      "execution_count": null,
      "outputs": [
        {
          "output_type": "stream",
          "name": "stdout",
          "text": [
            "Random Forest Accuracy: 100.00%\n"
          ]
        }
      ]
    },
    {
      "cell_type": "markdown",
      "source": [],
      "metadata": {
        "id": "gqMz0TyzKHLF"
      }
    },
    {
      "cell_type": "code",
      "source": [
        "\n",
        "naive_bayes = GaussianNB()\n",
        "\n",
        "\n",
        "naive_bayes.fit(X_train, y_train)\n",
        "\n",
        "\n",
        "nb_predictions = naive_bayes.predict(X_test)\n",
        "\n",
        "# Calculate accuracy\n",
        "nb_accuracy = accuracy_score(y_test, nb_predictions)\n",
        "print(\"Naive Bayes Accuracy: {:.2f}%\".format(nb_accuracy * 100))\n"
      ],
      "metadata": {
        "colab": {
          "base_uri": "https://localhost:8080/"
        },
        "id": "1aHBdISd8MdK",
        "outputId": "c80642f1-091d-4366-f86c-6c871fc162ab"
      },
      "execution_count": null,
      "outputs": [
        {
          "output_type": "stream",
          "name": "stdout",
          "text": [
            "Naive Bayes Accuracy: 100.00%\n"
          ]
        }
      ]
    }
  ]
}