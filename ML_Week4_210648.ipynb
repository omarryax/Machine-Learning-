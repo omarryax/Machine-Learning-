{
  "nbformat": 4,
  "nbformat_minor": 0,
  "metadata": {
    "colab": {
      "provenance": []
    },
    "kernelspec": {
      "name": "python3",
      "display_name": "Python 3"
    },
    "language_info": {
      "name": "python"
    }
  },
  "cells": [
    {
      "cell_type": "markdown",
      "source": [
        "1->(a)"
      ],
      "metadata": {
        "id": "6-TZfbmifvHW"
      }
    },
    {
      "cell_type": "code",
      "execution_count": null,
      "metadata": {
        "colab": {
          "base_uri": "https://localhost:8080/"
        },
        "id": "KCXSBu3570V3",
        "outputId": "13a00e56-d42e-40ca-ab4b-a1115b52b493"
      },
      "outputs": [
        {
          "output_type": "stream",
          "name": "stdout",
          "text": [
            "Feature1    1\n",
            "Feature2    0\n",
            "Category    0\n",
            "Target      0\n",
            "dtype: int64\n"
          ]
        }
      ],
      "source": [
        "import pandas as pd\n",
        "import numpy as np\n",
        "from sklearn.model_selection import train_test_split\n",
        "\n",
        "#Example dataset\n",
        "data = {\n",
        "    'Feature1': [1, 2, 3, 4, np.nan , 6, 7, 8, 9, 10],\n",
        "    'Feature2': [5, 4, 3, 2, 1, 1, 2, 3, 4, 5],\n",
        "    'Category': ['A', 'B', 'A', 'B', 'A', 'B', 'A', 'B', 'A', 'B'],\n",
        "    'Target': [10, 20, 15, 25, 30, 40, 35, 45, 50, 60]\n",
        "}\n",
        "\n",
        "df = pd.DataFrame(data)\n",
        "\n",
        "#Checking for missing values\n",
        "print(df.isnull().sum())\n",
        "\n",
        "#Handling missing values (for example, fill with mean)\n",
        "df['Feature1'].fillna(df['Feature1'].mean(), inplace=True)\n",
        "\n",
        "#Splitting the data into features (X) and the target variable (y)\n",
        "X = df[['Feature1', 'Feature2', 'Category']]\n",
        "y = df['Target']\n",
        "\n",
        "\n",
        "X_train, X_test, y_train, y_test = train_test_split(X, y, test_size=0.2, random_state=42)\n",
        "\n"
      ]
    },
    {
      "cell_type": "markdown",
      "source": [
        "b"
      ],
      "metadata": {
        "id": "jgmX0g7of2U-"
      }
    },
    {
      "cell_type": "code",
      "source": [
        "summary_stats = df.describe()\n",
        "print(summary_stats)"
      ],
      "metadata": {
        "colab": {
          "base_uri": "https://localhost:8080/"
        },
        "id": "1FxhK1HW9i-I",
        "outputId": "b0ff8f86-f7b5-465a-daf9-3dae0208ba58"
      },
      "execution_count": null,
      "outputs": [
        {
          "output_type": "stream",
          "name": "stdout",
          "text": [
            "        Feature1   Feature2    Target\n",
            "count  10.000000  10.000000  10.00000\n",
            "mean    5.555556   3.000000  33.00000\n",
            "std     3.022549   1.490712  16.02082\n",
            "min     1.000000   1.000000  10.00000\n",
            "25%     3.250000   2.000000  21.25000\n",
            "50%     5.777778   3.000000  32.50000\n",
            "75%     7.750000   4.000000  43.75000\n",
            "max    10.000000   5.000000  60.00000\n"
          ]
        }
      ]
    },
    {
      "cell_type": "markdown",
      "source": [
        "c"
      ],
      "metadata": {
        "id": "MnRQM0f8f8A4"
      }
    },
    {
      "cell_type": "code",
      "source": [
        "X = df[['Feature1', 'Feature2', 'Category']]\n",
        "y = df['Target']\n"
      ],
      "metadata": {
        "id": "9huiF6pJ92bQ"
      },
      "execution_count": null,
      "outputs": []
    },
    {
      "cell_type": "markdown",
      "source": [
        "d"
      ],
      "metadata": {
        "id": "gwkMygqngCGH"
      }
    },
    {
      "cell_type": "code",
      "source": [
        "X_encoded = pd.get_dummies(X, columns=['Category'])\n"
      ],
      "metadata": {
        "id": "PtwOPSis94-s"
      },
      "execution_count": null,
      "outputs": []
    },
    {
      "cell_type": "markdown",
      "source": [
        "e"
      ],
      "metadata": {
        "id": "6wV3DRv-gDU9"
      }
    },
    {
      "cell_type": "code",
      "source": [
        "correlation_matrix = df.corr()\n",
        "\n",
        "import seaborn as sns\n",
        "sns.heatmap(correlation_matrix, annot=True)\n"
      ],
      "metadata": {
        "colab": {
          "base_uri": "https://localhost:8080/",
          "height": 507
        },
        "id": "IhBQgJcf-A5m",
        "outputId": "129850ad-2803-4f2a-c47f-16cd004a61fb"
      },
      "execution_count": null,
      "outputs": [
        {
          "output_type": "stream",
          "name": "stderr",
          "text": [
            "<ipython-input-13-836a375373b5>:1: FutureWarning: The default value of numeric_only in DataFrame.corr is deprecated. In a future version, it will default to False. Select only valid columns or specify the value of numeric_only to silence this warning.\n",
            "  correlation_matrix = df.corr()\n"
          ]
        },
        {
          "output_type": "execute_result",
          "data": {
            "text/plain": [
              "<Axes: >"
            ]
          },
          "metadata": {},
          "execution_count": 13
        },
        {
          "output_type": "display_data",
          "data": {
            "text/plain": [
              "<Figure size 640x480 with 2 Axes>"
            ],
            "image/png": "[encoded data removed]"
          },
          "metadata": {}
        }
      ]
    },
    {
      "cell_type": "markdown",
      "source": [
        "2->a"
      ],
      "metadata": {
        "id": "0tYKunRCgGrY"
      }
    },
    {
      "cell_type": "code",
      "source": [
        "from sklearn.model_selection import train_test_split\n",
        "from sklearn.linear_model import LinearRegression, Ridge, Lasso\n",
        "from sklearn.preprocessing import StandardScaler\n",
        "from sklearn.metrics import mean_squared_error\n",
        "import matplotlib.pyplot as plt\n",
        "\n",
        "#Splitting the data into training and testing sets\n",
        "X_train, X_test, y_train, y_test = train_test_split(X_encoded, y, test_size=0.2, random_state=42)\n",
        "\n",
        "# Create and train the models\n",
        "models = {\n",
        "    'Linear Regression': LinearRegression(),\n",
        "    'Ridge Regression': Ridge(),\n",
        "    'Lasso Regression': Lasso()\n",
        "}\n",
        "for model_name, model in models.items():\n",
        "    model.fit(X_train, y_train)\n",
        "    y_pred = model.predict(X_test)\n",
        "    mse = mean_squared_error(y_test, y_pred)\n",
        "    print(f\"{model_name} MSE: {mse}\")\n",
        "# Optionally, you can train Polynomial Regression as well\n",
        "from sklearn.preprocessing import PolynomialFeatures\n",
        "from sklearn.pipeline import make_pipeline\n",
        "\n",
        "poly_model = make_pipeline(PolynomialFeatures(degree=2), LinearRegression())\n",
        "poly_model.fit(X_train, y_train)\n",
        "y_pred = poly_model.predict(X_test)\n",
        "mse = mean_squared_error(y_test, y_pred)\n",
        "print(f\"Polynomial Regression MSE: {mse}\")\n"
      ],
      "metadata": {
        "colab": {
          "base_uri": "https://localhost:8080/"
        },
        "id": "iHaSmBKZ-BoM",
        "outputId": "18b316fa-6bc8-41c8-aca3-6272cf15dad5"
      },
      "execution_count": null,
      "outputs": [
        {
          "output_type": "stream",
          "name": "stdout",
          "text": [
            "Linear Regression MSE: 4.935082500334951\n",
            "Ridge Regression MSE: 4.785219382729705\n",
            "Lasso Regression MSE: 17.222238462825285\n",
            "Polynomial Regression MSE: 41.18630226775435\n"
          ]
        }
      ]
    },
    {
      "cell_type": "markdown",
      "source": [
        "b"
      ],
      "metadata": {
        "id": "F5lLa9B9gLOo"
      }
    },
    {
      "cell_type": "code",
      "source": [
        "scaler = StandardScaler()\n",
        "X_train_scaled = scaler.fit_transform(X_train)\n",
        "X_test_scaled = scaler.transform(X_test)\n",
        "for model_name, model in models.items():\n",
        "    model.fit(X_train_scaled, y_train)\n",
        "    y_pred = model.predict(X_test_scaled)\n",
        "    mse = mean_squared_error(y_test, y_pred)\n",
        "    print(f\"{model_name} with Scaling MSE: {mse}\")\n",
        "# For Polynomial Regression with scaling\n",
        "poly_model_scaled = make_pipeline(PolynomialFeatures(degree=2), LinearRegression())\n",
        "poly_model_scaled.fit(X_train_scaled, y_train)\n",
        "y_pred = poly_model_scaled.predict(X_test_scaled)\n",
        "mse = mean_squared_error(y_test, y_pred)\n",
        "print(f\"Polynomial Regression with Scaling MSE: {mse}\")\n"
      ],
      "metadata": {
        "colab": {
          "base_uri": "https://localhost:8080/"
        },
        "id": "b-9Ous-e-FAi",
        "outputId": "a3f4d315-f8b7-406b-fc01-6fd935612083"
      },
      "execution_count": null,
      "outputs": [
        {
          "output_type": "stream",
          "name": "stdout",
          "text": [
            "Linear Regression with Scaling MSE: 4.935082500334968\n",
            "Ridge Regression with Scaling MSE: 18.801623188962147\n",
            "Lasso Regression with Scaling MSE: 8.706374017881505\n",
            "Polynomial Regression with Scaling MSE: 41.795183302322556\n"
          ]
        }
      ]
    },
    {
      "cell_type": "markdown",
      "source": [
        "3->a,b,c"
      ],
      "metadata": {
        "id": "n___syX_gPJf"
      }
    },
    {
      "cell_type": "code",
      "source": [
        "# Visualize the predictions\n",
        "plt.scatter(y_test, y_pred)\n",
        "plt.xlabel(\"Actual Values\")\n",
        "plt.ylabel(\"Predicted Values\")\n",
        "plt.title(\"Actual vs. Predicted Values\")\n",
        "plt.show()"
      ],
      "metadata": {
        "colab": {
          "base_uri": "https://localhost:8080/",
          "height": 472
        },
        "id": "673KkvBQ-JIK",
        "outputId": "f8296aac-1afa-4778-c34b-ae04033b3279"
      },
      "execution_count": null,
      "outputs": [
        {
          "output_type": "display_data",
          "data": {
            "text/plain": [
              "<Figure size 640x480 with 1 Axes>"
            ],
            "image/png": "[encoded data removed]"
          },
          "metadata": {}
        }
      ]
    },
    {
      "cell_type": "markdown",
      "source": [
        "d"
      ],
      "metadata": {
        "id": "YR67ZFwggmda"
      }
    },
    {
      "cell_type": "code",
      "source": [
        "#Taking a random test sample (for example, the first row) and predict its value.\n",
        "sample = X_test_scaled[0].reshape(1, -1)  # We need to reshape it if you're using a scaler\n",
        "sample_prediction = poly_model_scaled.predict(sample)\n",
        "print(f\"Predicted Value for Sample: {sample_prediction[0]}\")"
      ],
      "metadata": {
        "colab": {
          "base_uri": "https://localhost:8080/"
        },
        "id": "RlAvTw36-c-X",
        "outputId": "d4507eae-0460-4c53-934e-dd47eb41ab38"
      },
      "execution_count": null,
      "outputs": [
        {
          "output_type": "stream",
          "name": "stdout",
          "text": [
            "Predicted Value for Sample: 48.2960094600433\n"
          ]
        }
      ]
    }
  ]
}